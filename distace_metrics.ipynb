{
 "cells": [
  {
   "cell_type": "code",
   "execution_count": 9,
   "id": "e9b8194f-07e3-42e8-ab73-815f50ec4d6d",
   "metadata": {},
   "outputs": [
    {
     "name": "stdout",
     "output_type": "stream",
     "text": [
      "   Var1  Var2  Var3  Var4  Var5  Var6  Var7  Var8\n",
      "0   2.7   3.3   3.4   3.0   3.1   3.4   3.0   2.7\n",
      "1   3.9   2.8   2.6   4.0   2.6   3.0   3.2   3.0\n",
      "2   2.5   2.9   3.4   3.0   3.2   3.1   3.2   2.8\n"
     ]
    }
   ],
   "source": [
    "import numpy as np\n",
    "import pandas as pd\n",
    "\n",
    "matrix = np.array([[2.7, 3.3, 3.4, 3.0, 3.1, 3.4, 3.0, 2.7],\n",
    "                    [3.9, 2.8, 2.6, 4.0, 2.6, 3.0, 3.2, 3.0],\n",
    "                    [2.5, 2.9, 3.4, 3.0, 3.2, 3.1, 3.2, 2.8]])\n",
    "df = pd.DataFrame(matrix, columns=[f'Var{i+1}' for i in range(matrix.shape[1])])\n",
    "print(df)"
   ]
  },
  {
   "cell_type": "markdown",
   "id": "e3546a25-bca5-4373-baa4-5853a26dd3b3",
   "metadata": {},
   "source": [
    "### DISTANCES FOR BINARY VARIABLES"
   ]
  },
  {
   "cell_type": "code",
   "execution_count": 10,
   "id": "9c02bb91-9996-4cb5-9513-f833691b803b",
   "metadata": {},
   "outputs": [
    {
     "name": "stdout",
     "output_type": "stream",
     "text": [
      "   Var1  Var2  Var3  Var4  Var5  Var6  Var7  Var8\n",
      "0     0     1     1     0     1     1     0     0\n",
      "1     1     0     0     1     0     0     1     1\n",
      "2     0     0     1     0     1     0     1     0\n"
     ]
    }
   ],
   "source": [
    "media = np.mean(df, axis = 0)\n",
    "df_bin = df\n",
    "for i, col in enumerate(df.columns):\n",
    "    df_bin[col] = np.where(df[col] > media[col], 1, 0)\n",
    "\n",
    "print(df_bin)"
   ]
  },
  {
   "cell_type": "code",
   "execution_count": 42,
   "id": "6dbf57b9-fe99-46bb-8173-c86660b7540b",
   "metadata": {},
   "outputs": [
    {
     "data": {
      "text/plain": [
       "array([[1.        , 0.        , 0.4       ],\n",
       "       [0.        , 1.        , 0.16666667],\n",
       "       [0.4       , 0.16666667, 1.        ]])"
      ]
     },
     "execution_count": 42,
     "metadata": {},
     "output_type": "execute_result"
    }
   ],
   "source": [
    "def similarity(matrix_bin, method): \n",
    "    # method: 'jaccard', 'tanimoto', 'simple_matching', 'russel_rao', 'dice'\n",
    "    matrix_bin = df.values\n",
    "    nrow, ncol = matrix_bin.shape\n",
    "    similarities = np.zeros((nrow, nrow))\n",
    "    \n",
    "    # Mapeamento de parâmetros com base no método escolhido\n",
    "    params = {\n",
    "        'jaccard': (0, 0, 1),\n",
    "        'tanimoto': (1, 1, 2),\n",
    "        'simple_matching': (1, 1, 1),\n",
    "        'russel_rao': (0, 1, 1),\n",
    "        'dice': (0, 0, 0.5)\n",
    "    }\n",
    "    \n",
    "    if method not in params:\n",
    "        raise ValueError(f\"Método desconhecido: {method}\")\n",
    "\n",
    "    delta1, delta2, gamma = params[method]\n",
    "\n",
    "    for i in range(nrow):\n",
    "        similarities[i][i] = 1  # Similaridade de si mesmo é 1\n",
    "        for j in range(i + 1, nrow):\n",
    "            # Computa as variáveis a1, a2, a3, a4\n",
    "            a1 = np.sum((matrix_bin[i] == 1) & (matrix_bin[j] == 1))\n",
    "            a2 = np.sum((matrix_bin[i] == 0) & (matrix_bin[j] == 1))\n",
    "            a3 = np.sum((matrix_bin[i] == 1) & (matrix_bin[j] == 0))\n",
    "            a4 = np.sum((matrix_bin[i] == 0) & (matrix_bin[j] == 0))\n",
    "\n",
    "            # Calcula a similaridade com base no método\n",
    "            similarity = (a1 + (delta1 * a4)) / (a1 + (delta2 * a4) + (gamma * (a2 + a3)))\n",
    "            \n",
    "            # Atribui valores simétricos\n",
    "            #print(i,j, similarity)\n",
    "            similarities[i][j] = similarity\n",
    "            similarities[j][i] = similarity\n",
    "    \n",
    "    return similarities\n",
    "\n",
    "# Exemplo de chamada\n",
    "similarity(df_bin, 'jaccard')\n"
   ]
  },
  {
   "cell_type": "code",
   "execution_count": 22,
   "id": "166fc991-01aa-4d2c-b7ad-10d57e1ccbb2",
   "metadata": {},
   "outputs": [
    {
     "data": {
      "text/plain": [
       "array([[1.        , 0.        , 0.45454545],\n",
       "       [0.        , 1.        , 0.23076923],\n",
       "       [0.45454545, 0.23076923, 1.        ]])"
      ]
     },
     "execution_count": 22,
     "metadata": {},
     "output_type": "execute_result"
    }
   ],
   "source": [
    "similarity(df_bin, 'tanimoto')"
   ]
  },
  {
   "cell_type": "code",
   "execution_count": 23,
   "id": "761b932e-feb0-4c9a-a767-21d3ad2a88dc",
   "metadata": {},
   "outputs": [
    {
     "data": {
      "text/plain": [
       "array([[1.   , 0.   , 0.625],\n",
       "       [0.   , 1.   , 0.375],\n",
       "       [0.625, 0.375, 1.   ]])"
      ]
     },
     "execution_count": 23,
     "metadata": {},
     "output_type": "execute_result"
    }
   ],
   "source": [
    "similarity(df_bin, 'simple_matching')"
   ]
  },
  {
   "cell_type": "markdown",
   "id": "4ce128a5-2c22-4805-96ed-2d570db88cb1",
   "metadata": {},
   "source": [
    "### Posso utilizar a função de jaccard já pronta"
   ]
  },
  {
   "cell_type": "code",
   "execution_count": 28,
   "id": "b93e913c-3d36-48dc-bfef-a2e8dae47aff",
   "metadata": {},
   "outputs": [
    {
     "name": "stdout",
     "output_type": "stream",
     "text": [
      "[[1.    0.    0.625]\n",
      " [0.    1.    0.375]\n",
      " [0.625 0.375 1.   ]]\n"
     ]
    }
   ],
   "source": [
    "from scipy.spatial.distance import pdist, squareform\n",
    "\n",
    "jaccard_distances = pdist(df, metric='matching')\n",
    "# Converta a matriz de distância para uma forma quadrada\n",
    "jaccard_distances_square = 1-squareform(jaccard_distances)# - 1: to similarity\n",
    "print(jaccard_distances_square)"
   ]
  },
  {
   "cell_type": "markdown",
   "id": "3f668fa6-97ba-4bf0-9175-84299a616b4d",
   "metadata": {},
   "source": [
    "### DISTANCES FOR CONTINUOUS VARIABLES"
   ]
  },
  {
   "cell_type": "code",
   "execution_count": 36,
   "id": "a7ff1336-5cea-4a66-85b6-718216263913",
   "metadata": {},
   "outputs": [
    {
     "name": "stdout",
     "output_type": "stream",
     "text": [
      "Matriz de distâncias entre todos os vetores:\n",
      "[[0.         2.82842712 1.73205081]\n",
      " [2.82842712 0.         2.23606798]\n",
      " [1.73205081 2.23606798 0.        ]]\n"
     ]
    }
   ],
   "source": [
    "def distances(matriz):\n",
    "    matriz= df.values\n",
    "    n = matriz.shape[0]  # Número de vetores\n",
    "    distancias = np.zeros((n, n))  # Matriz para armazenar as distâncias\n",
    "    for i in range(n):\n",
    "        for j in range(i + 1, n):\n",
    "            distancia = np.linalg.norm(matriz[i] - matriz[j])\n",
    "            distancias[i, j] = distancia\n",
    "            distancias[j, i] = distancia  # A distância é simétrica\n",
    "    return distancias\n",
    "\n",
    "# Calculando as distâncias\n",
    "distancias = distances(df)\n",
    "\n",
    "print(\"Matriz de distâncias entre todos os vetores:\")\n",
    "print(distancias)"
   ]
  },
  {
   "cell_type": "code",
   "execution_count": 40,
   "id": "85a8684d-22bc-4628-a8cd-4427799dd90c",
   "metadata": {},
   "outputs": [
    {
     "name": "stdout",
     "output_type": "stream",
     "text": [
      "[[0.         2.82842712 1.73205081]\n",
      " [2.82842712 0.         2.23606798]\n",
      " [1.73205081 2.23606798 0.        ]]\n"
     ]
    }
   ],
   "source": [
    "distances = pdist(df, 'euclidean')\n",
    "# Converta a matriz de distância para uma forma quadrada\n",
    "distances_square = squareform(distances)\n",
    "print(distances_square)"
   ]
  },
  {
   "cell_type": "markdown",
   "id": "01e00de1-d592-4aad-b307-ca06e6ca3b4f",
   "metadata": {},
   "source": [
    "# FINAL CONCLUSIONS\n",
    "\n",
    "Você pode calcular todas essas distancias pela função pdist(), tanto para variáveis contínuas como binárias"
   ]
  }
 ],
 "metadata": {
  "kernelspec": {
   "display_name": "Python 3 (ipykernel)",
   "language": "python",
   "name": "python3"
  },
  "language_info": {
   "codemirror_mode": {
    "name": "ipython",
    "version": 3
   },
   "file_extension": ".py",
   "mimetype": "text/x-python",
   "name": "python",
   "nbconvert_exporter": "python",
   "pygments_lexer": "ipython3",
   "version": "3.9.19"
  }
 },
 "nbformat": 4,
 "nbformat_minor": 5
}
