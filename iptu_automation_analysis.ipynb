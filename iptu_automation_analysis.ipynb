{
 "cells": [
  {
   "cell_type": "markdown",
   "id": "defa7c52-2694-46e4-bd34-60329724c631",
   "metadata": {},
   "source": [
    "# Brazilian IPTU Analysis\n",
    "\n",
    "This is an automation of data from https://siconfi.tesouro.gov.br/siconfi/index.jsf;jsessionid=ub5omA8UYsZqYiahbHV9JRwd.node1\n",
    "\n"
   ]
  },
  {
   "cell_type": "code",
   "execution_count": null,
   "id": "c41275ce-c039-4138-8e15-d398fd7b6940",
   "metadata": {},
   "outputs": [],
   "source": []
  }
 ],
 "metadata": {
  "kernelspec": {
   "display_name": "Python 3 (ipykernel)",
   "language": "python",
   "name": "python3"
  },
  "language_info": {
   "codemirror_mode": {
    "name": "ipython",
    "version": 3
   },
   "file_extension": ".py",
   "mimetype": "text/x-python",
   "name": "python",
   "nbconvert_exporter": "python",
   "pygments_lexer": "ipython3",
   "version": "3.9.19"
  }
 },
 "nbformat": 4,
 "nbformat_minor": 5
}
