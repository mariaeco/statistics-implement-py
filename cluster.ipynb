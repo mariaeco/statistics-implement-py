{
 "cells": [
  {
   "cell_type": "markdown",
   "id": "fc1d1d0b-a30c-481f-aed6-09be09a635ee",
   "metadata": {},
   "source": [
    "CLUSTER ALGORITHMS"
   ]
  },
  {
   "cell_type": "code",
   "execution_count": 1,
   "id": "bfefba04-6568-41bb-8f0a-2c55a9ebd3c1",
   "metadata": {},
   "outputs": [
    {
     "name": "stdout",
     "output_type": "stream",
     "text": [
      "   Var1  Var2  Var3  Var4  Var5  Var6  Var7  Var8\n",
      "0   2.7   3.3   3.4   3.0   3.1   3.4   3.0   2.7\n",
      "1   3.9   2.8   2.6   4.0   2.6   3.0   3.2   3.0\n",
      "2   1.5   0.5   1.9   1.4   0.3   1.4   1.2   1.3\n",
      "3   2.5   2.9   3.4   3.0   3.2   3.1   3.2   2.8\n"
     ]
    }
   ],
   "source": [
    "import numpy as np\n",
    "import pandas as pd\n",
    "from scipy.spatial.distance import pdist, squareform\n",
    "import matplotlib.pylab\n",
    "\n",
    "#CREATING \n",
    "matrix = np.array([[2.7, 3.3, 3.4, 3.0, 3.1, 3.4, 3.0, 2.7],\n",
    "                    [3.9, 2.8, 2.6, 4.0, 2.6, 3.0, 3.2, 3.0],\n",
    "                    [1.5, 0.5, 1.9, 1.4, 0.3, 1.4, 1.2, 1.3],\n",
    "                    [2.5, 2.9, 3.4, 3.0, 3.2, 3.1, 3.2, 2.8]])\n",
    "\n",
    "df = pd.DataFrame(matrix, columns=[f'Var{i+1}' for i in range(matrix.shape[1])])\n",
    "print(df)#\n",
    "\n",
    "#para usar um dado binario:\n",
    "# media = np.mean(df, axis = 0)\n",
    "# df_bin = df\n",
    "# for i, col in enumerate(df.columns):\n",
    "#     df_bin[col] = np.where(df[col] > media[col], 1, 0)\n",
    "\n",
    "# print(df_bin)"
   ]
  },
  {
   "cell_type": "code",
   "execution_count": 2,
   "id": "291d3118-bc81-4543-b462-9166b01868c1",
   "metadata": {},
   "outputs": [
    {
     "name": "stdout",
     "output_type": "stream",
     "text": [
      "{0: [0], 1: [1], 2: [2], 3: [3]}\n",
      "   Var1  Var2  Var3  Var4  Var5  Var6  Var7  Var8\n",
      "0   2.6   3.1   3.4   3.0  3.15  3.25   3.1  2.75\n",
      "1   3.9   2.8   2.6   4.0  2.60  3.00   3.2  3.00\n",
      "2   1.5   0.5   1.9   1.4  0.30  1.40   1.2  1.30\n",
      "mudou a linha 0\n",
      "Clusters atuais: {0: [0, 3], 1: [1], 2: [2]}\n",
      "{0: [0, 3], 1: [1], 2: [2]}\n",
      "   Var1  Var2  Var3  Var4   Var5   Var6  Var7   Var8\n",
      "0  3.25  2.95   3.0   3.5  2.875  3.125  3.15  2.875\n",
      "2  1.50  0.50   1.9   1.4  0.300  1.400  1.20  1.300\n",
      "mudou a linha 0\n",
      "Clusters atuais: {0: [0, 3, 1], 1: [2]}\n",
      "{0: [0, 3, 1], 1: [2]}\n",
      "    Var1   Var2  Var3  Var4    Var5    Var6   Var7    Var8\n",
      "0  2.375  1.725  2.45  2.45  1.5875  2.2625  2.175  2.0875\n",
      "mudou a linha 0\n",
      "Clusters atuais: {0: [0, 3, 1, 2]}\n",
      "{0: [0, 3, 1, 2]}\n",
      "[['0-3', 0.5916079783099616], ['0-1', 1.9640519341402354], ['0-1', 5.529410004693087]]\n",
      "Clusters finais: {0: [0, 3, 1, 2]}\n"
     ]
    }
   ],
   "source": [
    "def clusterization(df, target_clusters=1, metric='euclidean'):\n",
    "    # Passo 1: Inicialmente, cada ponto é um cluster\n",
    "    matrix = df.copy()\n",
    "    n = len(matrix)\n",
    "    clusters = {i: [i] for i in range(n)}\n",
    "    distclusters = [] \n",
    "    # Passo 2: Computa a matriz de distâncias entre todos os pontos\n",
    "\n",
    "    \n",
    "    while len(clusters) > target_clusters:\n",
    "        distances = pdist(matrix, metric=metric)\n",
    "        distance_matrix = squareform(distances)\n",
    "        \n",
    "        # Configura para não considerar a diagonal\n",
    "        np.fill_diagonal(distance_matrix, np.inf)\n",
    "        # Passo 3: Encontra os dois clusters mais próximos\n",
    "        i, j = np.unravel_index(np.argmin(distance_matrix), distance_matrix.shape)\n",
    "        min_value = np.min(distance_matrix)\n",
    "        distclusters.append([f'{i}-{j}', float(min_value)])\n",
    "        \n",
    "        # Passo 4: Unir os dois clusters mais próximos\n",
    "        print(clusters)\n",
    "        clusters[i].extend(clusters[j])  # Adiciona os pontos do cluster j ao cluster i\n",
    "        \n",
    "        #calculo o centroido do grupo\n",
    "        centroid = np.mean([matrix.iloc[i], matrix.iloc[j]], axis=0)\n",
    "        matrix.iloc[i] = centroid\n",
    "        matrix.drop(j, inplace=True)\n",
    "        print(matrix)\n",
    "        print(\"mudou a linha\", i)\n",
    "        del clusters[j]  # Remove o cluster j\n",
    "        \n",
    "        # Atualiza os índices da matriz e dos clusters\n",
    "        matrix.reset_index(drop=True, inplace=True)\n",
    "        clusters = {idx: clusters[c] for idx, c in enumerate(clusters.keys())}\n",
    "        \n",
    "        print(\"Clusters atuais:\", clusters)\n",
    "        \n",
    "    print(clusters)\n",
    "    print(distclusters)\n",
    "    return clusters\n",
    "\n",
    "# Exemplo de uso\n",
    "clusters = clusterization(df, target_clusters=1)\n",
    "print(\"Clusters finais:\", clusters)"
   ]
  },
  {
   "cell_type": "code",
   "execution_count": 24,
   "id": "a748ba32-2e08-47d3-85f8-71c6f717199c",
   "metadata": {},
   "outputs": [
    {
     "name": "stdout",
     "output_type": "stream",
     "text": [
      "4\n",
      "Imprimindo os clusters {0: [0], 1: [1], 2: [2], 3: [3]}\n",
      "DISTÂNCIA ENTRE 0-3 E 1: 1.986112661433471\n",
      "DISTÂNCIA ENTRE 0-3 E 2: 5.487860759559073\n",
      "Clusters atuais: {0: [0, 3], 1: [1], 2: [2]}\n",
      "3\n",
      "Imprimindo os clusters {0: [0, 3], 1: [1], 2: [2]}\n",
      "DISTÂNCIA ENTRE 0-1 E 2: 5.614345458606749\n",
      "Clusters atuais: {0: [0, 3, 1], 1: [2]}\n",
      "2\n",
      "Imprimindo os clusters {0: [0, 3, 1], 1: [2]}\n",
      "Clusters atuais: {0: [0, 3, 1, 2]}\n",
      "{0: [0, 3, 1, 2]}\n",
      "[['0-3', 0.5916079783099616], ['0-3-1', 1.986112661433471], ['0-3-2', 5.487860759559073], ['0-1-2', 5.614345458606749]]\n",
      "Clusters finais: {0: [0, 3, 1, 2]}\n"
     ]
    }
   ],
   "source": [
    "import numpy as np\n",
    "import pandas as pd\n",
    "from scipy.spatial.distance import pdist, squareform\n",
    "from scipy.cluster.hierarchy import linkage, dendrogram\n",
    "import matplotlib.pyplot as plt\n",
    "\n",
    "\n",
    "def dist(x, y):\n",
    "    distance = np.linalg.norm(x - y)\n",
    "    return distance\n",
    "\n",
    "def agglomerative_clustering(df, target_clusters=1, method='averagelinkage'): \n",
    "    #using agglomerative algorithms for groups distance\n",
    "    # Passo 1: Inicialmente, cada ponto é um cluster\n",
    "    matrix = df.copy()\n",
    "    n = len(matrix)\n",
    "    clusters = {i: [i] for i in range(n)}\n",
    "    distclusters = [] \n",
    "    # Passo 2: Computa a matriz de distâncias entre todos os pontos\n",
    "    distances = pdist(matrix)\n",
    "    distance_matrix = squareform(distances) \n",
    "\n",
    "    while len(matrix) > target_clusters:\n",
    "        distances = pdist(matrix)\n",
    "        distance_matrix = squareform(distances) \n",
    "        print(len(matrix))\n",
    "        \n",
    "        # Configura para não considerar a diagonal\n",
    "        np.fill_diagonal(distance_matrix, np.inf)\n",
    "        # Passo 3: Encontra os dois clusters mais próximos\n",
    "        i, j = np.unravel_index(np.argmin(distance_matrix), distance_matrix.shape)\n",
    "        \n",
    "        min_value = np.min(distance_matrix)\n",
    "        if not distclusters:  # Adiciona min_value apenas no primeiro agrupamento\n",
    "            distclusters.append([f'{i}-{j}', float(min_value)])\n",
    "        \n",
    "        # Passo 4: Unir os dois clusters mais próximos\n",
    "        print(\"Imprimindo os clusters\", clusters)\n",
    "        clusters[i].extend(clusters[j])  # Adiciona os pontos do cluster j ao cluster i\n",
    "\n",
    "        Rmatrix = matrix.drop([i, j])\n",
    "        P = np.mean(matrix.iloc[[i]], axis=0)\n",
    "        Q = np.mean(matrix.iloc[[j]], axis=0)\n",
    "        PQ = matrix.iloc[[i, j]]\n",
    "        PQcentroid = np.mean(PQ, axis=0)\n",
    "\n",
    "        matrix.iloc[i] = PQcentroid\n",
    "        matrix.drop(j, inplace=True)\n",
    "        \n",
    "        params = {\n",
    "            'singlelinkage': (1/2, 1/2, 0, -1/2),\n",
    "            'completelinkage': (1/2, 1/2, 0, 1/2),\n",
    "            'averagelinkage': (1/2, 1/2, 0, 0),\n",
    "            'ward': (1/2, 1/2, 0, 0)\n",
    "        }\n",
    "\n",
    "        if method not in params:\n",
    "            raise ValueError(f\"Método desconhecido: {method}\")\n",
    "\n",
    "        delta1, delta2, delta3, delta4 = params[method]\n",
    "        \n",
    "        for index, row in matrix.iterrows():\n",
    "            if index != i:  # Evita calcular a distância com ele mesmo\n",
    "                group_dist = (delta1 * dist(row, P) + delta2 * dist(row, Q) + \n",
    "                              delta3 * dist(P, Q) + delta4 * abs(dist(row, P) - dist(row, Q)))\n",
    "                print(f\"DISTÂNCIA ENTRE {i}-{j} E {index}: {group_dist}\")\n",
    "                distclusters.append([f'{i}-{j}-{index}', float(group_dist)])\n",
    "\n",
    "        del clusters[j]  # Remove o cluster j\n",
    "        # Atualiza os índices da matriz e dos clusters\n",
    "        matrix.reset_index(drop=True, inplace=True)\n",
    "        clusters = {idx: clusters[c] for idx, c in enumerate(clusters.keys())}\n",
    "        \n",
    "        print(\"Clusters atuais:\", clusters)\n",
    "    print(clusters)\n",
    "    print(distclusters)\n",
    "\n",
    "\n",
    "    \n",
    "    return clusters, distclusters\n",
    "\n",
    "# Exemplo de uso\n",
    "clusters, distancias = agglomerative_clustering(df, target_clusters=1)\n",
    "print(\"Clusters finais:\", clusters)\n",
    "\n"
   ]
  },
  {
   "cell_type": "code",
   "execution_count": 25,
   "id": "5ce514ec-7049-4816-b42e-7dc352aa032a",
   "metadata": {},
   "outputs": [
    {
     "data": {
      "text/plain": [
       "[['0-3', 0.5916079783099616],\n",
       " ['0-3-1', 1.986112661433471],\n",
       " ['0-3-2', 5.487860759559073],\n",
       " ['0-1-2', 5.614345458606749]]"
      ]
     },
     "execution_count": 25,
     "metadata": {},
     "output_type": "execute_result"
    }
   ],
   "source": [
    "distancias"
   ]
  },
  {
   "cell_type": "raw",
   "id": "520816c0-86a8-4fe0-84d7-8307b02f6ab9",
   "metadata": {},
   "source": [
    "Temos aqui o mesmo resultado"
   ]
  },
  {
   "cell_type": "code",
   "execution_count": 26,
   "id": "5e220fe7-fab5-4680-9efb-f80d4637e2af",
   "metadata": {},
   "outputs": [
    {
     "data": {
      "image/png": "[encoded data removed]",
      "text/plain": [
       "<Figure size 640x480 with 1 Axes>"
      ]
     },
     "metadata": {},
     "output_type": "display_data"
    }
   ],
   "source": [
    "linkage_data = linkage(matrix, method='ward', metric='euclidean')\n",
    "dendrogram(linkage_data) #usei o chatgpt aqui para me ajudar a plotar os labels, não tava sabendo com, só isso\n",
    "plt.title('Dendrogram')\n",
    "plt.xlabel('Movies')\n",
    "plt.ylabel('Euclidean Distance')\n",
    "plt.xticks(rotation=45, ha='right')\n",
    "plt.show()\n"
   ]
  },
  {
   "cell_type": "markdown",
   "id": "ce07db58-db25-432a-bd98-373cb423a61c",
   "metadata": {},
   "source": [
    "# PCA"
   ]
  },
  {
   "cell_type": "code",
   "execution_count": 28,
   "id": "a9d29398-1bfa-448b-8947-1c2f17003e2b",
   "metadata": {},
   "outputs": [
    {
     "data": {
      "image/png": "[encoded data removed]",
      "text/plain": [
       "<Figure size 800x600 with 1 Axes>"
      ]
     },
     "metadata": {},
     "output_type": "display_data"
    }
   ],
   "source": [
    "import numpy as np\n",
    "import pandas as pd\n",
    "import matplotlib.pyplot as plt\n",
    "from sklearn.decomposition import PCA\n",
    "from sklearn.preprocessing import StandardScaler\n",
    "\n",
    "# Criando a matriz\n",
    "matrix = np.array([[2.7, 3.3, 3.4, 3.0, 3.1, 3.4, 3.0, 2.7],\n",
    "                    [3.9, 2.8, 2.6, 4.0, 2.6, 3.0, 3.2, 3.0],\n",
    "                    [1.5, 0.5, 1.9, 1.4, 0.3, 1.4, 1.2, 1.3],\n",
    "                    [2.5, 2.9, 3.4, 3.0, 3.2, 3.1, 3.2, 2.8]])\n",
    "\n",
    "df = pd.DataFrame(matrix, columns=[f'Var{i+1}' for i in range(matrix.shape[1])])\n",
    "\n",
    "\n",
    "# Padronizar os dados\n",
    "scaler = StandardScaler()\n",
    "df_scaled = scaler.fit_transform(df)\n",
    "\n",
    "# Aplicar PCA\n",
    "pca = PCA(n_components=2)\n",
    "principal_components = pca.fit_transform(df_scaled)\n",
    "\n",
    "# Criar um DataFrame com os dois primeiros componentes principais\n",
    "pca_df = pd.DataFrame(data=principal_components, columns=['PC1', 'PC2'])\n",
    "\n",
    "# Plotar o scatterplot\n",
    "plt.figure(figsize=(8, 6))\n",
    "plt.scatter(pca_df['PC1'], pca_df['PC2'], color='blue', marker='o')\n",
    "plt.title('PCA: Scatterplot dos Dois Primeiros Componentes Principais')\n",
    "plt.xlabel('Componente Principal 1')\n",
    "plt.ylabel('Componente Principal 2')\n",
    "plt.grid(True)\n",
    "plt.show()\n"
   ]
  }
 ],
 "metadata": {
  "kernelspec": {
   "display_name": "Python 3 (ipykernel)",
   "language": "python",
   "name": "python3"
  },
  "language_info": {
   "codemirror_mode": {
    "name": "ipython",
    "version": 3
   },
   "file_extension": ".py",
   "mimetype": "text/x-python",
   "name": "python",
   "nbconvert_exporter": "python",
   "pygments_lexer": "ipython3",
   "version": "3.9.19"
  }
 },
 "nbformat": 4,
 "nbformat_minor": 5
}
